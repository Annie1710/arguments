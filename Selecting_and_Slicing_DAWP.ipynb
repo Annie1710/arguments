{
  "nbformat": 4,
  "nbformat_minor": 0,
  "metadata": {
    "colab": {
      "name": "Selecting and Slicing DAWP.ipynb",
      "provenance": [],
      "authorship_tag": "ABX9TyNwV8XbvKftb79M9PcpT7pF",
      "include_colab_link": true
    },
    "kernelspec": {
      "name": "python3",
      "display_name": "Python 3"
    },
    "language_info": {
      "name": "python"
    }
  },
  "cells": [
    {
      "cell_type": "markdown",
      "metadata": {
        "id": "view-in-github",
        "colab_type": "text"
      },
      "source": [
        "<a href=\"https://colab.research.google.com/github/Annie1710/arguments/blob/main/Selecting_and_Slicing_DAWP.ipynb\" target=\"_parent\"><img src=\"https://colab.research.google.com/assets/colab-badge.svg\" alt=\"Open In Colab\"/></a>"
      ]
    },
    {
      "cell_type": "code",
      "execution_count": 1,
      "metadata": {
        "id": "xBwbLDvGMts1"
      },
      "outputs": [],
      "source": [
        "import numpy as np\n",
        "from numpy.random import default_rng\n",
        "rng = default_rng(1234)\n",
        "\n",
        "mystery_array = (rng.integers(low=0, high=500, size=216)\n",
        "                * rng.integers(low=0, high=500, size=216)\n",
        "                ).reshape((6, 6, 6))"
      ]
    },
    {
      "cell_type": "code",
      "source": [
        "print(mystery_array)"
      ],
      "metadata": {
        "colab": {
          "base_uri": "https://localhost:8080/"
        },
        "id": "Kj4tARh0NDr5",
        "outputId": "a42b28b9-6143-46fb-a276-c33338fc4d52"
      },
      "execution_count": 3,
      "outputs": [
        {
          "output_type": "stream",
          "name": "stdout",
          "text": [
            "[[[116382 151768 171071  29830  35020  63618]\n",
            "  [  1352  60320  33810  22101   5628  27966]\n",
            "  [  9131  12120 111612  44838 147312  91580]\n",
            "  [ 43110  52924  44320  13860  24257 144400]\n",
            "  [204288 156884  96922  37497 121471 116602]\n",
            "  [228960  15134   1173 102026 128781   5661]]\n",
            "\n",
            " [[106518   1806 121746  85260 117608  10350]\n",
            "  [ 19683 123783   7100 111890  27945  89975]\n",
            "  [ 17810  13170  37736 130784  76983  10512]\n",
            "  [106672  18620    768    481  69874  49875]\n",
            "  [ 34768   1287  80625 100064    870 120009]\n",
            "  [ 24081 209755 174924   5776 168019 145824]]\n",
            "\n",
            " [[ 17444  22841  75650  40420 215254   1333]\n",
            "  [ 12292  77688  25585   6210 197976  16660]\n",
            "  [ 76760 111538 138240 146888  54120  59220]\n",
            "  [ 98792  94304 144774  82695 117312  87001]\n",
            "  [   724  21298   9906   3277 216480   6700]\n",
            "  [ 17000  22326  41976  13664  45820  40280]]\n",
            "\n",
            " [[140946 215688  35728  34125  11398 116820]\n",
            "  [ 22140 100092 120600  60053   2041  40565]\n",
            "  [122200  36208  18600  57462   4536   6060]\n",
            "  [ 90558  20378   5412   3528  35321  81152]\n",
            "  [150410 147798 121023    980  14278  82716]\n",
            "  [ 49250  83740 142600 123500 189525    120]]\n",
            "\n",
            " [[ 63036  42800    630  44928   6357  48280]\n",
            "  [ 41202  12740 153012   7335  22320  35937]\n",
            "  [ 25868 101016  44444  44520  11024  18564]\n",
            "  [  3652  44330  14945  74460  21750  21440]\n",
            "  [ 28602 150570   2516    272  71149  43780]\n",
            "  [  6624  26892 149100  16720 154912  43290]]\n",
            "\n",
            " [[229432 209620  22532  25004 194740  14174]\n",
            "  [ 39856     16  70422  92920  24308 175708]\n",
            "  [116518   4725 207887  20139  28912 130548]\n",
            "  [102102  12573  73094  54020  10287 105369]\n",
            "  [ 92140  57150  84420  26013  75468  28899]\n",
            "  [ 70336   5320   7040 156065  11155  25668]]]\n"
          ]
        }
      ]
    },
    {
      "cell_type": "code",
      "source": [
        "print(mystery_array.ndim)"
      ],
      "metadata": {
        "colab": {
          "base_uri": "https://localhost:8080/"
        },
        "id": "ukiRRIw0Oy0m",
        "outputId": "16700887-0b95-4cc9-8108-12772d719c88"
      },
      "execution_count": 7,
      "outputs": [
        {
          "output_type": "stream",
          "name": "stdout",
          "text": [
            "3\n"
          ]
        }
      ]
    },
    {
      "cell_type": "code",
      "source": [
        "print(mystery_array [0,0,0])"
      ],
      "metadata": {
        "colab": {
          "base_uri": "https://localhost:8080/"
        },
        "id": "b5Dtl-0pNgfj",
        "outputId": "3ececfe8-7369-4d7e-adf8-0b601aafc970"
      },
      "execution_count": 6,
      "outputs": [
        {
          "output_type": "stream",
          "name": "stdout",
          "text": [
            "116382\n"
          ]
        }
      ]
    },
    {
      "cell_type": "code",
      "source": [
        "print(mystery_array [5,5,5])"
      ],
      "metadata": {
        "colab": {
          "base_uri": "https://localhost:8080/"
        },
        "id": "5rrpHE_fOKpZ",
        "outputId": "e966d3ca-8d06-4624-d0e2-33de2c62dc09"
      },
      "execution_count": 9,
      "outputs": [
        {
          "output_type": "stream",
          "name": "stdout",
          "text": [
            "25668\n"
          ]
        }
      ]
    },
    {
      "cell_type": "code",
      "source": [
        "print(mystery_array [2,5,2])"
      ],
      "metadata": {
        "colab": {
          "base_uri": "https://localhost:8080/"
        },
        "id": "GaN1IZkgPFrQ",
        "outputId": "ba8cfe80-bcb6-4b60-8a79-928a6461f8d0"
      },
      "execution_count": 10,
      "outputs": [
        {
          "output_type": "stream",
          "name": "stdout",
          "text": [
            "41976\n"
          ]
        }
      ]
    },
    {
      "cell_type": "code",
      "source": [
        "print(mystery_array [4,5])"
      ],
      "metadata": {
        "colab": {
          "base_uri": "https://localhost:8080/"
        },
        "id": "iZFYjLPtPVMY",
        "outputId": "4a0c6bfd-53e9-4d92-cf50-7a2628008515"
      },
      "execution_count": 11,
      "outputs": [
        {
          "output_type": "stream",
          "name": "stdout",
          "text": [
            "[  6624  26892 149100  16720 154912  43290]\n"
          ]
        }
      ]
    },
    {
      "cell_type": "code",
      "source": [
        "print(mystery_array [0,2, 3:6])"
      ],
      "metadata": {
        "colab": {
          "base_uri": "https://localhost:8080/"
        },
        "id": "QGqEZRK9PhYq",
        "outputId": "402873c4-d5fb-4a25-da86-ed8402719948"
      },
      "execution_count": 15,
      "outputs": [
        {
          "output_type": "stream",
          "name": "stdout",
          "text": [
            "[ 44838 147312  91580]\n"
          ]
        }
      ]
    },
    {
      "cell_type": "code",
      "source": [
        "print(mystery_array [])"
      ],
      "metadata": {
        "id": "GH-iQcBUQIut"
      },
      "execution_count": null,
      "outputs": []
    }
  ]
}